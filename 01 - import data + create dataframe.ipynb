{
 "cells": [
  {
   "cell_type": "markdown",
   "metadata": {},
   "source": [
    "Data are found at: https://www.kaggle.com/cityofLA/los-angeles-parking-citations\n",
    "\n",
    "Additional tools: https://pypi.org/project/uszipcode/\n",
    "\n",
    "Kaggle API token: {\"key\":\"\"}\n",
    "\n",
    "Total number of rows in dataset: 9477528. Look at the last 1,000,000 rows \n"
   ]
  },
  {
   "cell_type": "code",
   "execution_count": null,
   "metadata": {},
   "outputs": [],
   "source": [
    "# - run once to have on your local machine\n",
    "# - API token key is in my kaggle file\n",
    "# - \n",
    "\n",
    "!kaggle datasets download -d cityofLA/los-angeles-parking-citations"
   ]
  },
  {
   "cell_type": "code",
   "execution_count": 1,
   "metadata": {},
   "outputs": [],
   "source": [
    "import pandas as pd\n",
    "import uszipcode\n",
    "from pyproj import transform\n",
    "import numpy as np\n",
    "from googlemaps import googlemaps\n",
    "from datetime import datetime\n"
   ]
  },
  {
   "cell_type": "code",
   "execution_count": 2,
   "metadata": {},
   "outputs": [],
   "source": [
    "data_path = 'los-angeles-parking-citations/parking-citations.csv'\n",
    "df = pd.read_csv(data_path, header=None, sep=',', quotechar='\"',skiprows=9470000)"
   ]
  },
  {
   "cell_type": "code",
   "execution_count": 3,
   "metadata": {},
   "outputs": [],
   "source": [
    "# - name columns\n",
    "\n",
    "df.columns =[\"ticket_number\",\"issue_date\",'issue_time','meter_id','marked_time','rp_state_plate','plate_expiry_date','vin','make','body_style','color','location','route','agency','violation_code','violation_description','fine_amount','latitude','longitude']\n"
   ]
  },
  {
   "cell_type": "code",
   "execution_count": 4,
   "metadata": {},
   "outputs": [],
   "source": [
    "# - create new column, convert to datetime\n",
    "df['date'] = pd.to_datetime(df['issue_date'])\n"
   ]
  },
  {
   "cell_type": "code",
   "execution_count": 25,
   "metadata": {},
   "outputs": [],
   "source": [
    "# - create time\n",
    "\n",
    "df['time'] = df['issue_time']\n",
    "\n",
    "# - drop null times\n",
    "df = df[np.isfinite(df['time'])]\n"
   ]
  },
  {
   "cell_type": "code",
   "execution_count": 32,
   "metadata": {},
   "outputs": [],
   "source": [
    "# df.drop(['time'], axis=1)"
   ]
  },
  {
   "cell_type": "code",
   "execution_count": 27,
   "metadata": {},
   "outputs": [],
   "source": [
    "# - turning location and time into a string for modification\n",
    "\n",
    "df = df.astype({\"location\": str, 'time': str})"
   ]
  },
  {
   "cell_type": "code",
   "execution_count": 28,
   "metadata": {},
   "outputs": [],
   "source": [
    "# - strip the end string for additional modification\n",
    "\n",
    "df[\"time\"] = df.time.str.rstrip('.0')"
   ]
  },
  {
   "cell_type": "code",
   "execution_count": 29,
   "metadata": {},
   "outputs": [],
   "source": [
    "# - time \n",
    "\n",
    "def time_edits(x):\n",
    "    if len(x) == 2:\n",
    "        return '0' + x + '0'\n",
    "    elif len(x) == 3:\n",
    "        return '0' + x\n",
    "    else:\n",
    "        return x\n",
    "\n",
    "df[\"time\"]= df[\"time\"].apply(time_edits)"
   ]
  },
  {
   "cell_type": "code",
   "execution_count": 35,
   "metadata": {},
   "outputs": [],
   "source": [
    "# - turn time back into string\n",
    "\n",
    "df = df.astype({'time': int})\n"
   ]
  },
  {
   "cell_type": "code",
   "execution_count": 31,
   "metadata": {},
   "outputs": [],
   "source": [
    "df['address'] = df.apply(lambda row: row[11] + \", Los Angeles, CA\", axis = 1)"
   ]
  },
  {
   "cell_type": "code",
   "execution_count": null,
   "metadata": {},
   "outputs": [],
   "source": [
    "# from pprint import pprint\n",
    "\n",
    "# pprint(geocode_result[0]['address_components'])\n",
    "\n",
    "import googlemaps\n",
    "from datetime import datetime\n",
    "\n",
    "gmaps = googlemaps.Client(key='')\n",
    "\n",
    "geocode_result = []\n",
    "\n",
    "def google_zipcodes_api(x):\n",
    "    for x in df:\n",
    "        geocode_result = gmaps.geocode(x)\n",
    "\n",
    "\n",
    "df[\"location\"].apply(google_zipcodes_api)   \n",
    "    \n",
    "\n",
    "# # Geocoding an address\n",
    "# geocode_result = gmaps.geocode('13147 WELBY WAY, Los angeles, CA')\n",
    "# geocode_result\n",
    "\n",
    "\n",
    "\n",
    "# df[\"zipcode\"] = zipcodes"
   ]
  },
  {
   "cell_type": "code",
   "execution_count": null,
   "metadata": {},
   "outputs": [],
   "source": [
    "# - this shows us which part of the dictionary we should be looking for the zipcode\n",
    "add_comp = geocode_result[0]['address_components']\n",
    "\n",
    "zipcodes = []\n",
    "\n",
    "def geocode_result(geocode_result):        \n",
    "    for dct in add_comp:\n",
    "        if 'postal_code' in dct['types']:\n",
    "            return dct['short_name']\n",
    "#             zipcodes.append(zipcode)\n",
    "\n"
   ]
  },
  {
   "cell_type": "code",
   "execution_count": null,
   "metadata": {},
   "outputs": [],
   "source": [
    "\n",
    "\n",
    "df.columns = df.columns.str.strip().str.lower()\n",
    "df.columns = df.columns.str.replace(\" \",\"_\")"
   ]
  },
  {
   "cell_type": "code",
   "execution_count": null,
   "metadata": {},
   "outputs": [],
   "source": []
  },
  {
   "cell_type": "code",
   "execution_count": null,
   "metadata": {},
   "outputs": [],
   "source": [
    "# - there's something funky with the lat-long! \n",
    "# - LA records the lat-long in Lambert conformal conic projection format\n",
    "# - this converts weird CA coordinate systems\n",
    "# - goal result ~ 34.0522° N, 118.2437° W\n",
    "\n",
    "inProj=pyproj.Proj(\"+proj=lcc +lat_1=34.03333333333333 +lat_2=35.46666666666667 +lat_0=33.5 +lon_0=-118 +x_0=2000000 +y_0=500000.0000000002 +ellps=GRS80 +datum=NAD83 +to_meter=0.3048006096012192 +no_defs\")\n",
    "outProj=pyproj.Proj(init=\"EPSG:4326\")\n",
    "\n",
    "\n",
    "df['long_lat'] = df.apply(lambda row: transform(\n",
    "    inProj,outProj,row[17],row[18]), axis = 1)\n"
   ]
  },
  {
   "cell_type": "code",
   "execution_count": null,
   "metadata": {},
   "outputs": [],
   "source": [
    "df['address'] = df.apply(lambda row: row[11] + \", Los Angeles, CA\", axis = 1)"
   ]
  },
  {
   "cell_type": "code",
   "execution_count": null,
   "metadata": {},
   "outputs": [],
   "source": []
  },
  {
   "cell_type": "code",
   "execution_count": null,
   "metadata": {},
   "outputs": [],
   "source": []
  },
  {
   "cell_type": "code",
   "execution_count": null,
   "metadata": {},
   "outputs": [],
   "source": [
    "# - don't touch Katherine\n",
    "# - base code for figuring out long-lat transformation\n",
    "\n",
    "inProj=pyproj.Proj(\"+proj=lcc +lat_1=34.03333333333333 +lat_2=35.46666666666667 +lat_0=33.5 +lon_0=-118 +x_0=2000000 +y_0=500000.0000000002 +ellps=GRS80 +datum=NAD83 +to_meter=0.3048006096012192 +no_defs\")\n",
    "outProj=pyproj.Proj(init=\"EPSG:4326\")\n",
    "\n",
    "x1,y1 = (6439997.9, 1802686.4)\n",
    "x2,y2 = transform(inProj,outProj,x1,y1)\n",
    "\n",
    "print(round(y2,7), round(x2,7))\n",
    "# round(number[, ndigits])\n",
    "\n"
   ]
  },
  {
   "cell_type": "code",
   "execution_count": null,
   "metadata": {},
   "outputs": [],
   "source": []
  },
  {
   "cell_type": "code",
   "execution_count": null,
   "metadata": {},
   "outputs": [],
   "source": []
  },
  {
   "cell_type": "code",
   "execution_count": null,
   "metadata": {},
   "outputs": [],
   "source": [
    "# - find distribution of location\n",
    "\n",
    "df['agency'].unique()"
   ]
  },
  {
   "cell_type": "code",
   "execution_count": null,
   "metadata": {},
   "outputs": [],
   "source": [
    "import googlemaps\n",
    "from datetime import datetime\n",
    "\n",
    "gmaps = googlemaps.Client(key='')\n",
    "\n",
    "# Geocoding an address\n",
    "geocode_result = gmaps.geocode('13147 WELBY WAY, Los angeles, CA')\n",
    "geocode_result\n",
    "\n",
    "# gmaps = googlemaps('')\n",
    "# address = '13147 WELBY WAY, Los angeles, CA'\n",
    "# lat, lng = gmaps.address_to_latlng(address)\n",
    "# print(lat, lng)"
   ]
  },
  {
   "cell_type": "code",
   "execution_count": null,
   "metadata": {},
   "outputs": [],
   "source": [
    "from pprint import pprint\n",
    "\n",
    "pprint(geocode_result[0]['address_components'])\n",
    "\n",
    "zipcodes = []\n",
    "add_comp = geocode_result[0]['address_components']\n",
    "\n",
    "for dct in add_comp:\n",
    "    if 'postal_code' in dct['types']:\n",
    "        zipcode = dct['short_name']\n",
    "        zipcodes.append(zipcode)\n",
    "\n",
    "df[\"zipcode\"] = zipcodes\n",
    "\n",
    "\n",
    "# use iterrows for iterating through rows in df -- \n",
    "# for idx, row in df.iterrows():\n"
   ]
  },
  {
   "cell_type": "code",
   "execution_count": null,
   "metadata": {},
   "outputs": [],
   "source": [
    "df.head()"
   ]
  },
  {
   "cell_type": "code",
   "execution_count": null,
   "metadata": {},
   "outputs": [],
   "source": [
    "df.info()"
   ]
  },
  {
   "cell_type": "code",
   "execution_count": null,
   "metadata": {},
   "outputs": [],
   "source": [
    "import csv\n",
    "\n",
    "with open(data_path) as fp:\n",
    "    reader = csv.reader(fp)\n",
    "    nrows = sum(1 for _ in reader)\n"
   ]
  },
  {
   "cell_type": "code",
   "execution_count": null,
   "metadata": {},
   "outputs": [],
   "source": [
    "nrows\n"
   ]
  },
  {
   "cell_type": "code",
   "execution_count": null,
   "metadata": {},
   "outputs": [],
   "source": [
    "nrows - 9470000"
   ]
  },
  {
   "cell_type": "code",
   "execution_count": null,
   "metadata": {},
   "outputs": [],
   "source": []
  }
 ],
 "metadata": {
  "kernelspec": {
   "display_name": "Python 3",
   "language": "python",
   "name": "python3"
  },
  "language_info": {
   "codemirror_mode": {
    "name": "ipython",
    "version": 3
   },
   "file_extension": ".py",
   "mimetype": "text/x-python",
   "name": "python",
   "nbconvert_exporter": "python",
   "pygments_lexer": "ipython3",
   "version": "3.7.3"
  }
 },
 "nbformat": 4,
 "nbformat_minor": 2
}
