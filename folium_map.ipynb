{
 "cells": [
  {
   "cell_type": "code",
   "execution_count": 16,
   "metadata": {},
   "outputs": [],
   "source": [
    "import folium\n",
    "import pickle\n",
    "import os\n",
    "import urllib, json\n",
    "from folium import GeoJson \n",
    "from folium import plugins\n",
    "from IPython.display import display\n",
    "import numpy as np\n"
   ]
  },
  {
   "cell_type": "code",
   "execution_count": 2,
   "metadata": {},
   "outputs": [],
   "source": [
    "with open('complete_data_join.pkl', 'rb') as f:\n",
    "    df = pickle.load(f)"
   ]
  },
  {
   "cell_type": "code",
   "execution_count": 14,
   "metadata": {},
   "outputs": [
    {
     "data": {
      "text/plain": [
       "(28368, 46)"
      ]
     },
     "execution_count": 14,
     "metadata": {},
     "output_type": "execute_result"
    }
   ],
   "source": [
    "df.shape"
   ]
  },
  {
   "cell_type": "code",
   "execution_count": 8,
   "metadata": {},
   "outputs": [],
   "source": [
    "m = folium.Map([34.0522, -118.2437], zoom_start=11)"
   ]
  },
  {
   "cell_type": "code",
   "execution_count": 17,
   "metadata": {},
   "outputs": [],
   "source": [
    "import folium\n",
    "import pickle\n",
    "import os\n",
    "import urllib, json\n",
    "from folium import GeoJson\n",
    "from folium import plugins\n",
    "from IPython.display import display\n",
    "import numpy as np\n",
    "\n",
    "with open('complete_data_join.pkl', 'rb') as f:\n",
    "    df = pickle.load(f)\n",
    "\n",
    "m = folium.Map([34.0522, -118.2437],tiles = \"Stamen Toner\", zoom_start=11)\n",
    "\n",
    "ticket_array = np.array(df[['lat_google', 'long_google']])\n",
    "\n",
    "# plot heatmap\n",
    "m.add_child(plugins.HeatMap(ticket_array, radius=10))\n",
    "m.save('mapPlot.html')"
   ]
  },
  {
   "cell_type": "code",
   "execution_count": 18,
   "metadata": {},
   "outputs": [],
   "source": [
    "m = folium.Map([34.0522, -118.2437],tiles = \"Stamen Toner\", zoom_start=11)\n",
    "\n",
    "ticket_array_sub = np.array(df_subzips[['lat_google', 'long_google']])\n",
    "\n",
    "# plot heatmap\n",
    "m.add_child(plugins.HeatMap(ticket_array_sub, radius=10))\n",
    "m.save('mapPlot_sub.html')"
   ]
  },
  {
   "cell_type": "code",
   "execution_count": 9,
   "metadata": {},
   "outputs": [],
   "source": [
    "zip_mask = (df['zipcode'] == 90001 ) | (df['zipcode'] == 90002 ) | (df['zipcode'] == 90003 ) | (\n",
    "    df['zipcode'] == 90007 ) | (df['zipcode'] == 90008 ) | (df['zipcode'] == 90011 ) | (\n",
    "    df['zipcode'] == 90015 ) | (df['zipcode'] == 90016 ) | (df['zipcode'] == 90018 ) | (\n",
    "    df['zipcode'] == 90021 ) | (df['zipcode'] == 90037 ) | (df['zipcode'] == 90043 ) | (\n",
    "    df['zipcode'] == 90044 ) | (df['zipcode'] == 90047 ) | (df['zipcode'] == 90051 ) | (\n",
    "    df['zipcode'] == 90052 ) | (df['zipcode'] == 90056 ) | (df['zipcode'] == 90058 ) | (\n",
    "    df['zipcode'] == 90059 ) | (df['zipcode'] == 90061 ) | (df['zipcode'] == 90062 ) | (\n",
    "    df['zipcode'] == 90082 ) | (df['zipcode'] == 90089 ) | (df['zipcode'] == 90222 ) | (\n",
    "    df['zipcode'] == 90232 ) | (df['zipcode'] == 90255 ) | (df['zipcode'] == 90301 ) | (\n",
    "    df['zipcode'] == 90001 ) | (df['zipcode'] == 90001 ) | (df['zipcode'] == 90001 ) | (\n",
    "    df['zipcode'] == 90301 ) | (df['zipcode'] == 90302 ) | (df['zipcode'] == 90303 ) | (\n",
    "    df['zipcode'] == 90305 ) | (df['zipcode'] == 90035 ) | (df['zipcode'] == 90209 ) | (\n",
    "    df['zipcode'] == 90210 ) | (df['zipcode'] == 90211 ) | (df['zipcode'] == 90212 ) | (\n",
    "    df['zipcode'] == 90213 ) | (df['zipcode'] == 90272 ) | (df['zipcode'] == 90077 ) \n",
    "\n",
    "df_subzips = df[zip_mask]\n",
    "\n",
    "\n",
    "# 90035\n",
    "# 90209\n",
    "# 90210\n",
    "# 90211\n",
    "# 90212\n",
    "# 90213\n",
    "# 90272\n",
    "# 90077\n",
    "\n",
    "\n",
    "\n",
    "# 90001\n",
    "# 90002\n",
    "# 90003\n",
    "# 90007\n",
    "# 90008\n",
    "# 90011\n",
    "# 90015\n",
    "# 90016\n",
    "# 90018\n",
    "# 90021\n",
    "# 90037\n",
    "# 90043\n",
    "# 90044\n",
    "# 90047\n",
    "# 90051\n",
    "# 90052\n",
    "# 90056\n",
    "# 90058\n",
    "# 90059\n",
    "# 90061\n",
    "# 90062\n",
    "# 90082\n",
    "# 90089\n",
    "# 90222\n",
    "# 90232\n",
    "# 90255\n",
    "# 90301\n",
    "# 90302\n",
    "# 90303\n",
    "# 90305"
   ]
  },
  {
   "cell_type": "code",
   "execution_count": 12,
   "metadata": {},
   "outputs": [
    {
     "data": {
      "text/plain": [
       "(4374, 46)"
      ]
     },
     "execution_count": 12,
     "metadata": {},
     "output_type": "execute_result"
    }
   ],
   "source": []
  },
  {
   "cell_type": "code",
   "execution_count": null,
   "metadata": {},
   "outputs": [],
   "source": []
  },
  {
   "cell_type": "code",
   "execution_count": null,
   "metadata": {},
   "outputs": [],
   "source": []
  },
  {
   "cell_type": "code",
   "execution_count": null,
   "metadata": {},
   "outputs": [],
   "source": []
  },
  {
   "cell_type": "code",
   "execution_count": null,
   "metadata": {},
   "outputs": [],
   "source": []
  },
  {
   "cell_type": "code",
   "execution_count": null,
   "metadata": {},
   "outputs": [],
   "source": []
  },
  {
   "cell_type": "code",
   "execution_count": 14,
   "metadata": {},
   "outputs": [],
   "source": []
  },
  {
   "cell_type": "code",
   "execution_count": null,
   "metadata": {},
   "outputs": [],
   "source": []
  },
  {
   "cell_type": "code",
   "execution_count": 18,
   "metadata": {},
   "outputs": [],
   "source": []
  },
  {
   "cell_type": "code",
   "execution_count": null,
   "metadata": {},
   "outputs": [],
   "source": []
  },
  {
   "cell_type": "code",
   "execution_count": null,
   "metadata": {},
   "outputs": [],
   "source": []
  },
  {
   "cell_type": "code",
   "execution_count": null,
   "metadata": {},
   "outputs": [],
   "source": []
  },
  {
   "cell_type": "code",
   "execution_count": null,
   "metadata": {},
   "outputs": [],
   "source": []
  },
  {
   "cell_type": "code",
   "execution_count": null,
   "metadata": {},
   "outputs": [],
   "source": []
  },
  {
   "cell_type": "code",
   "execution_count": null,
   "metadata": {},
   "outputs": [],
   "source": []
  },
  {
   "cell_type": "code",
   "execution_count": null,
   "metadata": {},
   "outputs": [],
   "source": []
  },
  {
   "cell_type": "code",
   "execution_count": null,
   "metadata": {},
   "outputs": [],
   "source": []
  }
 ],
 "metadata": {
  "kernelspec": {
   "display_name": "Python 3",
   "language": "python",
   "name": "python3"
  },
  "language_info": {
   "codemirror_mode": {
    "name": "ipython",
    "version": 3
   },
   "file_extension": ".py",
   "mimetype": "text/x-python",
   "name": "python",
   "nbconvert_exporter": "python",
   "pygments_lexer": "ipython3",
   "version": "3.7.3"
  }
 },
 "nbformat": 4,
 "nbformat_minor": 2
}
